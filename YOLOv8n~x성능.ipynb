{
  "nbformat": 4,
  "nbformat_minor": 0,
  "metadata": {
    "colab": {
      "private_outputs": true,
      "provenance": [],
      "mount_file_id": "1mCB91IEd5dfEjX_uj-4EmqpOY-hGgxCE",
      "authorship_tag": "ABX9TyN5hjzSrrctmxEZ5ORnhl1X",
      "include_colab_link": true
    },
    "kernelspec": {
      "name": "python3",
      "display_name": "Python 3"
    },
    "language_info": {
      "name": "python"
    }
  },
  "cells": [
    {
      "cell_type": "markdown",
      "metadata": {
        "id": "view-in-github",
        "colab_type": "text"
      },
      "source": [
        "<a href=\"https://colab.research.google.com/github/limseo12/YOLOv8_Object_Detection/blob/main/YOLOv8n~x%EC%84%B1%EB%8A%A5.ipynb\" target=\"_parent\"><img src=\"https://colab.research.google.com/assets/colab-badge.svg\" alt=\"Open In Colab\"/></a>"
      ]
    },
    {
      "cell_type": "markdown",
      "source": [
        "# 환경설정"
      ],
      "metadata": {
        "id": "dSWFRYjzU8OU"
      }
    },
    {
      "cell_type": "code",
      "execution_count": null,
      "metadata": {
        "id": "HBt_4y8gUxPO"
      },
      "outputs": [],
      "source": [
        "!pip install ultralytics    #Yolo 설치를 위한 코드"
      ]
    },
    {
      "cell_type": "code",
      "source": [
        "import ultralytics\n",
        "ultralytics.checks()    #checks 를 이용하면 욜로, 파이썬, 토치 등 버전 확인가능"
      ],
      "metadata": {
        "id": "imGiJkvsVJya"
      },
      "execution_count": null,
      "outputs": []
    },
    {
      "cell_type": "code",
      "source": [
        "import os\n",
        "#구글 드라이브 마운트 후 구글드라이브에 저장되어있는 나의 테스트 이미지파일 확인. os.listdir 이용\n",
        "print('test images = ', os.listdir('/content/drive/MyDrive/DL/Yolov8/YOLOv8_Object_Detection_Basic_test_image_dir'))"
      ],
      "metadata": {
        "id": "5bwBWjBTVcNc"
      },
      "execution_count": null,
      "outputs": []
    },
    {
      "cell_type": "code",
      "source": [
        "from PIL import Image\n",
        "##Image 할때 I 대문자로 해줘야된다....\n",
        "##test이미지 확인\n",
        "with Image.open('/content/drive/MyDrive/DL/Yolov8/YOLOv8_Object_Detection_Basic_test_image_dir/test1.jpg') as test_image:\n",
        "\n",
        "  test_image.show()"
      ],
      "metadata": {
        "id": "L117BaQmWgbl"
      },
      "execution_count": null,
      "outputs": []
    },
    {
      "cell_type": "code",
      "source": [
        "from PIL import Image\n",
        "\n",
        "with Image.open('/content/drive/MyDrive/DL/Yolov8/YOLOv8_Object_Detection_Basic_test_image_dir/test2.jpg') as test_image:\n",
        "\n",
        "  test_image.show()"
      ],
      "metadata": {
        "id": "Sw1MdnI2XEf6"
      },
      "execution_count": null,
      "outputs": []
    },
    {
      "cell_type": "code",
      "source": [
        "from PIL import Image\n",
        "\n",
        "with Image.open('/content/drive/MyDrive/DL/Yolov8/YOLOv8_Object_Detection_Basic_test_image_dir/test3.jpg') as test_image:\n",
        "\n",
        "  test_image.show()"
      ],
      "metadata": {
        "id": "2C-3LzQfXWLf"
      },
      "execution_count": null,
      "outputs": []
    },
    {
      "cell_type": "code",
      "source": [
        "from PIL import Image\n",
        "\n",
        "with Image.open('/content/drive/MyDrive/DL/Yolov8/YOLOv8_Object_Detection_Basic_test_image_dir/test4.jpg') as test_image:\n",
        "\n",
        "  test_image.show()"
      ],
      "metadata": {
        "id": "Ya-tb6vOXZ_E"
      },
      "execution_count": null,
      "outputs": []
    },
    {
      "cell_type": "markdown",
      "source": [
        "# Detection"
      ],
      "metadata": {
        "id": "T9souhw1XhAz"
      }
    },
    {
      "cell_type": "code",
      "source": [
        "from ultralytics import YOLO\n",
        "# 욜로8나노,스몰,라지,엑스라지? 를 모델에 저장해보자\n",
        "model_n = YOLO('yolov8n.pt')\n",
        "model_s = YOLO('yolov8s.pt')\n",
        "model_l = YOLO('yolov8l.pt')\n",
        "model_x = YOLO('yolov8x.pt')"
      ],
      "metadata": {
        "id": "dOCOnj1JXjpH"
      },
      "execution_count": null,
      "outputs": []
    },
    {
      "cell_type": "markdown",
      "source": [
        "# test image prediction"
      ],
      "metadata": {
        "id": "akQwGgbUYEpg"
      }
    },
    {
      "cell_type": "code",
      "source": [
        "#각각의 모델을 모든 사진에 적용\n",
        "results_n = model_n.predict(source='/content/drive/MyDrive/DL/Yolov8/YOLOv8_Object_Detection_Basic_test_image_dir/*.jpg', save=True)\n",
        "results_s = model_s.predict(source='/content/drive/MyDrive/DL/Yolov8/YOLOv8_Object_Detection_Basic_test_image_dir/*.jpg', save=True)\n",
        "results_l = model_l.predict(source='/content/drive/MyDrive/DL/Yolov8/YOLOv8_Object_Detection_Basic_test_image_dir/*.jpg', save=True)\n",
        "results_x = model_x.predict(source='/content/drive/MyDrive/DL/Yolov8/YOLOv8_Object_Detection_Basic_test_image_dir/*.jpg', save=True)"
      ],
      "metadata": {
        "id": "ZWgs2xwJYJ3t"
      },
      "execution_count": null,
      "outputs": []
    },
    {
      "cell_type": "code",
      "source": [
        "#위의 결과를 보면 runs/detect/predict, runs/detect/predict2.. 각각 저장이 되는것을 알 수 있음"
      ],
      "metadata": {
        "id": "mp3V1fHDaK54"
      },
      "execution_count": null,
      "outputs": []
    },
    {
      "cell_type": "markdown",
      "source": [
        "# results_n을 이용한 predict 경로에 저장된 이미지 부터확인.\n",
        "results_s 는 predict2 경로에 저장되어 있다."
      ],
      "metadata": {
        "id": "RHyyL75oasrO"
      }
    },
    {
      "cell_type": "code",
      "source": [
        "from PIL import Image\n",
        "\n",
        "with Image.open('/content/runs/detect/predict/test1.jpg') as pred_image:\n",
        "\n",
        "  pred_image.show()"
      ],
      "metadata": {
        "id": "9M0sVmzEZnyL"
      },
      "execution_count": null,
      "outputs": []
    },
    {
      "cell_type": "code",
      "source": [
        "with Image.open('/content/runs/detect/predict/test2.jpg') as pred_image:\n",
        "\n",
        "  pred_image.show()"
      ],
      "metadata": {
        "id": "MP5lHWo3a_5g"
      },
      "execution_count": null,
      "outputs": []
    },
    {
      "cell_type": "code",
      "source": [
        "with Image.open('/content/runs/detect/predict/test3.jpg') as pred_image:\n",
        "\n",
        "  pred_image.show()"
      ],
      "metadata": {
        "id": "MkCxasDQbFeC"
      },
      "execution_count": null,
      "outputs": []
    },
    {
      "cell_type": "code",
      "source": [
        "with Image.open('/content/runs/detect/predict/test4.jpg') as pred_image:\n",
        "\n",
        "  pred_image.show()"
      ],
      "metadata": {
        "id": "P4P35HjlbHeJ"
      },
      "execution_count": null,
      "outputs": []
    },
    {
      "cell_type": "markdown",
      "source": [
        "# result_s 를이용한 predict2 경로 이미지"
      ],
      "metadata": {
        "id": "h5U52M4bbP03"
      }
    },
    {
      "cell_type": "code",
      "source": [
        "with Image.open('/content/runs/detect/predict2/test1.jpg') as pred_image:\n",
        "\n",
        "  pred_image.show()"
      ],
      "metadata": {
        "id": "czHlHqJzbXT3"
      },
      "execution_count": null,
      "outputs": []
    },
    {
      "cell_type": "code",
      "source": [
        "with Image.open('/content/runs/detect/predict2/test2.jpg') as pred_image:\n",
        "\n",
        "  pred_image.show()"
      ],
      "metadata": {
        "id": "m8q42sxfbusf"
      },
      "execution_count": null,
      "outputs": []
    },
    {
      "cell_type": "code",
      "source": [
        "with Image.open('/content/runs/detect/predict2/test3.jpg') as pred_image:\n",
        "\n",
        "  pred_image.show()"
      ],
      "metadata": {
        "id": "tWYrfdv6bwbO"
      },
      "execution_count": null,
      "outputs": []
    },
    {
      "cell_type": "code",
      "source": [
        "with Image.open('/content/runs/detect/predict2/test4.jpg') as pred_image:\n",
        "\n",
        "  pred_image.show()"
      ],
      "metadata": {
        "id": "kehFzPmzbxE4"
      },
      "execution_count": null,
      "outputs": []
    },
    {
      "cell_type": "markdown",
      "source": [
        "# result_l 경로 predict3"
      ],
      "metadata": {
        "id": "Fppm7DBdbz7L"
      }
    },
    {
      "cell_type": "code",
      "source": [
        "with Image.open('/content/runs/detect/predict3/test1.jpg') as pred_image:\n",
        "\n",
        "  pred_image.show()"
      ],
      "metadata": {
        "id": "2RJTqCqpb44u"
      },
      "execution_count": null,
      "outputs": []
    },
    {
      "cell_type": "code",
      "source": [
        "with Image.open('/content/runs/detect/predict3/test2.jpg') as pred_image:\n",
        "\n",
        "  pred_image.show()"
      ],
      "metadata": {
        "id": "5wdWE4yAdEIe"
      },
      "execution_count": null,
      "outputs": []
    },
    {
      "cell_type": "code",
      "source": [
        "with Image.open('/content/runs/detect/predict3/test3.jpg') as pred_image:\n",
        "\n",
        "  pred_image.show()"
      ],
      "metadata": {
        "id": "AN5_z6ZYdGVz"
      },
      "execution_count": null,
      "outputs": []
    },
    {
      "cell_type": "code",
      "source": [
        "with Image.open('/content/runs/detect/predict3/test4.jpg') as pred_image:\n",
        "\n",
        "  pred_image.show()"
      ],
      "metadata": {
        "id": "jeZAucqadHqd"
      },
      "execution_count": null,
      "outputs": []
    },
    {
      "cell_type": "markdown",
      "source": [
        "#result_x 경로 predict4"
      ],
      "metadata": {
        "id": "XxG3g6TSb2hq"
      }
    },
    {
      "cell_type": "code",
      "source": [
        "with Image.open('/content/runs/detect/predict4/test1.jpg') as pred_image:\n",
        "\n",
        "  pred_image.show()"
      ],
      "metadata": {
        "id": "hKp19CCVb7Da"
      },
      "execution_count": null,
      "outputs": []
    },
    {
      "cell_type": "code",
      "source": [
        "with Image.open('/content/runs/detect/predict4/test2.jpg') as pred_image:\n",
        "\n",
        "  pred_image.show()"
      ],
      "metadata": {
        "id": "s92rYT1_dOAk"
      },
      "execution_count": null,
      "outputs": []
    },
    {
      "cell_type": "code",
      "source": [
        "with Image.open('/content/runs/detect/predict4/test3.jpg') as pred_image:\n",
        "\n",
        "  pred_image.show()"
      ],
      "metadata": {
        "id": "fPy_DFcgdOXu"
      },
      "execution_count": null,
      "outputs": []
    },
    {
      "cell_type": "code",
      "source": [
        "with Image.open('/content/runs/detect/predict4/test4.jpg') as pred_image:\n",
        "\n",
        "  pred_image.show()"
      ],
      "metadata": {
        "id": "HYNqb0QVdOhT"
      },
      "execution_count": null,
      "outputs": []
    },
    {
      "cell_type": "markdown",
      "source": [
        "## 결과값 분류가된 클래스넘버, 클래스이름 확인"
      ],
      "metadata": {
        "id": "_QKIaArbdYpL"
      }
    },
    {
      "cell_type": "code",
      "source": [
        "import numpy as np\n",
        "\n",
        "for result in results_n :\n",
        "\n",
        "  uniq, cnt = np.unique(result.boxes.cls.cpu().numpy(), return_counts=True)   #Torch.Tensor -> numpy\n",
        "  uniq_cnt_dict = dict(zip(uniq, cnt))\n",
        "\n",
        "  print('\\n{class num:counts} =', uniq_cnt_dict, '\\n')\n",
        "  print('각각의 class 정확도 = ', result.boxes.conf, '\\n')\n",
        "  for c in result.boxes.cls:\n",
        "      print('class num =', int(c), ', class_name =', model_n.names[int(c)])"
      ],
      "metadata": {
        "id": "HUjhjGARdowg"
      },
      "execution_count": null,
      "outputs": []
    },
    {
      "cell_type": "code",
      "source": [
        "for result in results_s :\n",
        "\n",
        "  uniq, cnt = np.unique(result.boxes.cls.cpu().numpy(), return_counts=True)   #Torch.Tensor -> numpy\n",
        "  uniq_cnt_dict = dict(zip(uniq, cnt))\n",
        "\n",
        "  print('\\n{class num:counts} =', uniq_cnt_dict, '\\n')\n",
        "  print('각각의 class 정확도 = ', result.boxes.conf, '\\n')\n",
        "  for c in result.boxes.cls:\n",
        "      print('class num =', int(c), ', class_name =', model_s.names[int(c)])"
      ],
      "metadata": {
        "id": "Pfig-zIIdz0k"
      },
      "execution_count": null,
      "outputs": []
    },
    {
      "cell_type": "code",
      "source": [
        "for result in results_l :\n",
        "\n",
        "  uniq, cnt = np.unique(result.boxes.cls.cpu().numpy(), return_counts=True)   #Torch.Tensor -> numpy\n",
        "  uniq_cnt_dict = dict(zip(uniq, cnt))\n",
        "\n",
        "  print('\\n{class num:counts} =', uniq_cnt_dict, '\\n')\n",
        "  print('각각의 class 정확도 = ', result.boxes.conf, '\\n')\n",
        "  for c in result.boxes.cls:\n",
        "      print('class num =', int(c), ', class_name =', model_l.names[int(c)])"
      ],
      "metadata": {
        "id": "QaR-OYzHd1aL"
      },
      "execution_count": null,
      "outputs": []
    },
    {
      "cell_type": "code",
      "source": [
        "for result in results_x :\n",
        "\n",
        "  uniq, cnt = np.unique(result.boxes.cls.cpu().numpy(), return_counts=True)   #Torch.Tensor -> numpy\n",
        "  uniq_cnt_dict = dict(zip(uniq, cnt))\n",
        "\n",
        "  print('\\n{class num:counts} =', uniq_cnt_dict, '\\n')\n",
        "  print('각각의 class 정확도 = ', result.boxes.conf, '\\n')\n",
        "\n",
        "  for c in result.boxes.cls:\n",
        "      print('class num =', int(c), ', class_name =', model_x.names[int(c)])"
      ],
      "metadata": {
        "id": "720r77i1d2d2"
      },
      "execution_count": null,
      "outputs": []
    },
    {
      "cell_type": "markdown",
      "source": [
        "# 이미지 저장"
      ],
      "metadata": {
        "id": "_g53MnHagKUR"
      }
    },
    {
      "cell_type": "code",
      "source": [
        "import glob\n",
        "\n",
        "detetced_image_list_n = glob.glob(('/content/runs/detect/predict/*.jpg'))\n",
        "detetced_image_list_s = glob.glob(('/content/runs/detect/predict2/*.jpg'))\n",
        "detetced_image_list_l = glob.glob(('/content/runs/detect/predict3/*.jpg'))\n",
        "detetced_image_list_x = glob.glob(('/content/runs/detect/predict4/*.jpg'))\n",
        "\n",
        "detected_image_nums_n = len(detetced_image_list_n)\n",
        "detected_image_nums_s = len(detetced_image_list_s)\n",
        "detected_image_nums_l = len(detetced_image_list_l)\n",
        "detected_image_nums_x = len(detetced_image_list_x)\n",
        "\n",
        "print(detected_image_nums_n)\n",
        "print(detetced_image_list_n)\n",
        "\n",
        "print(detected_image_nums_s)\n",
        "print(detetced_image_list_s)\n",
        "\n",
        "print(detected_image_nums_l)\n",
        "print(detetced_image_list_l)\n",
        "\n",
        "print(detected_image_nums_x)\n",
        "print(detetced_image_list_x)"
      ],
      "metadata": {
        "id": "yvRqdFbmgN8s"
      },
      "execution_count": null,
      "outputs": []
    },
    {
      "cell_type": "code",
      "source": [
        "# 다운로드를 위한 inference image 압축\n",
        "# 객체지향을 잘 다루고싶네요..하나하나 입력...\n",
        "\n",
        "import zipfile\n",
        "import os\n",
        "\n",
        "## model_n ##\n",
        "if not os.path.exists('/content/detected_result_n/'):\n",
        "    os.mkdir('/content/detected_result_n/')\n",
        "    print('detected_result_s dir is created !!!')\n",
        "\n",
        "\n",
        "with zipfile.ZipFile('/content/detected_result_n/detected_images_n.zip', 'w') as detected_images:\n",
        "\n",
        "    for idx in range(detected_image_nums_n):\n",
        "        detected_images.write(detetced_image_list_n[idx])\n",
        "\n",
        "## model_s ##\n",
        "if not os.path.exists('/content/detected_result_s/'):\n",
        "    os.mkdir('/content/detected_result_s/')\n",
        "    print('detected_result_s dir is created !!!')\n",
        "\n",
        "with zipfile.ZipFile('/content/detected_result_s/detected_images_s.zip', 'w') as detected_images:\n",
        "\n",
        "    for idx in range(detected_image_nums_s):\n",
        "        detected_images.write(detetced_image_list_s[idx])\n",
        "\n",
        "## model_l ##\n",
        "if not os.path.exists('/content/detected_result_l/'):\n",
        "    os.mkdir('/content/detected_result_l/')\n",
        "    print('detected_result_s dir is created !!!')\n",
        "\n",
        "\n",
        "with zipfile.ZipFile('/content/detected_result_l/detected_images_l.zip', 'w') as detected_images:\n",
        "\n",
        "    for idx in range(detected_image_nums_l):\n",
        "        detected_images.write(detetced_image_list_l[idx])\n",
        "\n",
        "## model_x ##\n",
        "if not os.path.exists('/content/detected_result_x/'):\n",
        "    os.mkdir('/content/detected_result_x/')\n",
        "    print('detected_result_x dir is created !!!')\n",
        "\n",
        "\n",
        "with zipfile.ZipFile('/content/detected_result_x/detected_images_x.zip', 'w') as detected_images:\n",
        "\n",
        "    for idx in range(detected_image_nums_x):\n",
        "        detected_images.write(detetced_image_list_x[idx])"
      ],
      "metadata": {
        "id": "f0j7qkIwhMAh"
      },
      "execution_count": null,
      "outputs": []
    },
    {
      "cell_type": "markdown",
      "source": [
        "끝~"
      ],
      "metadata": {
        "id": "CjU6nh1jjQ5U"
      }
    }
  ]
}