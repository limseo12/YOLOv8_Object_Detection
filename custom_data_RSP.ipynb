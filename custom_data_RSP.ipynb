{
  "nbformat": 4,
  "nbformat_minor": 0,
  "metadata": {
    "colab": {
      "private_outputs": true,
      "provenance": [],
      "gpuType": "T4",
      "mount_file_id": "1ewxeWlDqVaUX6oCdtUujEEE1-LdTtYA_",
      "authorship_tag": "ABX9TyOAYXgyYbZkkCrJKAFWWzE4",
      "include_colab_link": true
    },
    "kernelspec": {
      "name": "python3",
      "display_name": "Python 3"
    },
    "language_info": {
      "name": "python"
    },
    "accelerator": "GPU"
  },
  "cells": [
    {
      "cell_type": "markdown",
      "metadata": {
        "id": "view-in-github",
        "colab_type": "text"
      },
      "source": [
        "<a href=\"https://colab.research.google.com/github/limseo12/YOLOv8_Object_Detection/blob/main/custom_data_RSP.ipynb\" target=\"_parent\"><img src=\"https://colab.research.google.com/assets/colab-badge.svg\" alt=\"Open In Colab\"/></a>"
      ]
    },
    {
      "cell_type": "code",
      "source": [
        "!pip install roboflow\n",
        "\n",
        "from roboflow import Roboflow\n",
        "rf = Roboflow(api_key=\"Vo3weMCC3nS9jZ3v6tEV\")\n",
        "project = rf.workspace(\"roboflow-58fyf\").project(\"rock-paper-scissors-sxsw\")\n",
        "dataset = project.version(11).download(\"yolov8\")"
      ],
      "metadata": {
        "id": "XEPZ6CfizRrh"
      },
      "execution_count": null,
      "outputs": []
    },
    {
      "cell_type": "code",
      "source": [
        "!cat /content/Rock-Paper-Scissors-SXSW-11/data.yaml"
      ],
      "metadata": {
        "id": "vf3wxmIU2CIS"
      },
      "execution_count": null,
      "outputs": []
    },
    {
      "cell_type": "code",
      "source": [
        "!pip install PyYAML"
      ],
      "metadata": {
        "id": "0dwRnwJ62JIc"
      },
      "execution_count": null,
      "outputs": []
    },
    {
      "cell_type": "code",
      "source": [
        "#경로설정 직접경로 설정을해서 학습을 시도하면 오류가난다... 기존에 있던 yaml 데이터 그대로 학습을 시도하면 오류가 나지 않는다.\n",
        "import yaml\n",
        "\n",
        "RSP_data = {'path': '/content/Rock-Paper-Scissors-SXSW-11/',\n",
        "        'train': '/content/Rock-Paper-Scissors-SXSW-11/train/images',\n",
        "        'test': '/content/Rock-Paper-Scissors-SXSW-11/test/images',\n",
        "        'valid': '/content/Rock-Paper-Scissors-SXSW-11/valid/images',\n",
        "        'names' : ['Paper','Rock','Scissors'],\n",
        "        'nc' : 3 }\n",
        "\n",
        "with open('/content/Rock-Paper-Scissors-SXSW-11/RSP_data.yaml', 'w') as f:\n",
        "  yaml.dump(data, f)\n",
        "\n",
        "with open('/content/Rock-Paper-Scissors-SXSW-11/RSP_data.yaml', 'r') as f:\n",
        "  RSP_data = yaml.safe_load(f)\n",
        "  display(RSP_data)"
      ],
      "metadata": {
        "id": "CtilsbJrNlF-"
      },
      "execution_count": null,
      "outputs": []
    },
    {
      "cell_type": "code",
      "source": [
        "pwd"
      ],
      "metadata": {
        "id": "zzPzWHyBftl7"
      },
      "execution_count": null,
      "outputs": []
    },
    {
      "cell_type": "code",
      "source": [
        "%cd /content/Rock-Paper-Scissors-SXSW-11"
      ],
      "metadata": {
        "id": "0R80Ol_Bfwzu"
      },
      "execution_count": null,
      "outputs": []
    },
    {
      "cell_type": "code",
      "source": [
        "pwd"
      ],
      "metadata": {
        "id": "GwPsjHyEf4tv"
      },
      "execution_count": null,
      "outputs": []
    },
    {
      "cell_type": "code",
      "source": [
        "!cat /content/Rock-Paper-Scissors-SXSW-11/RSP_data.yaml"
      ],
      "metadata": {
        "id": "bSCSYaxnBOrs"
      },
      "execution_count": null,
      "outputs": []
    },
    {
      "cell_type": "markdown",
      "source": [
        "## YOLOv8 설치"
      ],
      "metadata": {
        "id": "_SEM0XLU4fkJ"
      }
    },
    {
      "cell_type": "code",
      "source": [
        "!pip install ultralytics"
      ],
      "metadata": {
        "id": "Lx4oyOUA4b0Q"
      },
      "execution_count": null,
      "outputs": []
    },
    {
      "cell_type": "code",
      "source": [
        "import ultralytics\n",
        "\n",
        "ultralytics.checks()"
      ],
      "metadata": {
        "id": "O3PyY1A64lqf"
      },
      "execution_count": null,
      "outputs": []
    },
    {
      "cell_type": "markdown",
      "source": [
        "## Train"
      ],
      "metadata": {
        "id": "5OpddJQZBpWt"
      }
    },
    {
      "cell_type": "code",
      "source": [
        "#Load a pre-trained model\n",
        "from ultralytics import YOLO\n",
        "model_x = YOLO('yolov8x.pt')"
      ],
      "metadata": {
        "id": "21KVBnYJ4m4-"
      },
      "execution_count": null,
      "outputs": []
    },
    {
      "cell_type": "code",
      "source": [
        "#기존의 coco dataset으로 학습된 모델이란 것을 확인 할 수 있다.\n",
        "print(type(model_x.names), len(model_x.names))\n",
        "print(model_x.names)"
      ],
      "metadata": {
        "id": "j2dj6p3r40PN"
      },
      "execution_count": null,
      "outputs": []
    },
    {
      "cell_type": "code",
      "source": [
        "model_x.train(data= '/content/Rock-Paper-Scissors-SXSW-11/data.yaml', epochs=5, patience=30, batch=32, imgsz=316)"
      ],
      "metadata": {
        "id": "EKR0prhi49v1"
      },
      "execution_count": null,
      "outputs": []
    },
    {
      "cell_type": "code",
      "source": [
        "results = model_x.predict(source='/content/Rock-Paper-Scissors-SXSW-11/test/images', save = True)"
      ],
      "metadata": {
        "id": "m9gWQhFT5OrV"
      },
      "execution_count": null,
      "outputs": []
    },
    {
      "cell_type": "code",
      "source": [
        "#경로 때문에 content/runs/detect 가 아닌 content/Rock-Paper-Scissors.../runs/detect에 저장됨\n",
        "print(type(results), len(results))"
      ],
      "metadata": {
        "id": "fBZpAAeaCIAu"
      },
      "execution_count": null,
      "outputs": []
    },
    {
      "cell_type": "code",
      "source": [
        "import numpy as np\n",
        "\n",
        "for result in results:\n",
        "\n",
        "    uniq, cnt = np.unique(result.boxes.cls.cpu().numpy(), return_counts=True)  # Torch.Tensor -> numpy\n",
        "    uniq_cnt_dict = dict(zip(uniq, cnt))\n",
        "\n",
        "    print('\\n{class num:counts} =', uniq_cnt_dict,'\\n')\n",
        "    for c in result.boxes.cls:\n",
        "        print('class num =', int(c), ', class_name =', model_x.names[int(c)])"
      ],
      "metadata": {
        "id": "fKH_QYMYCJFL"
      },
      "execution_count": null,
      "outputs": []
    },
    {
      "cell_type": "code",
      "source": [
        "#1번파일\n",
        "from PIL import Image\n",
        "\n",
        "with Image.open('/content/Rock-Paper-Scissors-SXSW-11/runs/detect/predict/15208484cellblock_jpg.rf.95cbda1e169a66105fbf2aa22959a73b.jpg') as pred_image:\n",
        "\n",
        "  pred_image.show()"
      ],
      "metadata": {
        "id": "wiw7R73HwhxC"
      },
      "execution_count": null,
      "outputs": []
    },
    {
      "cell_type": "code",
      "source": [
        "#5번파일\n",
        "from PIL import Image\n",
        "\n",
        "with Image.open('/content/Rock-Paper-Scissors-SXSW-11/runs/detect/predict/20220216_221550_jpg.rf.02a071a383151953fcf8671fc7fca3af.jpg') as pred_image:\n",
        "\n",
        "  pred_image.show()\n"
      ],
      "metadata": {
        "id": "r5tIxmvBxfWL"
      },
      "execution_count": null,
      "outputs": []
    },
    {
      "cell_type": "code",
      "source": [
        "#6번파일\n",
        "\n",
        "from PIL import Image\n",
        "\n",
        "with Image.open('/content/Rock-Paper-Scissors-SXSW-11/runs/detect/predict/20220216_221819_jpg.rf.295ebb583293f91f74e1700f0ab0639a.jpg') as pred_image:\n",
        "\n",
        "  pred_image.show()\n"
      ],
      "metadata": {
        "id": "0Wd9LjGbxuUG"
      },
      "execution_count": null,
      "outputs": []
    },
    {
      "cell_type": "markdown",
      "source": [
        "## 결과 확인 및 다운"
      ],
      "metadata": {
        "id": "cnFnDZ1PCL2l"
      }
    },
    {
      "cell_type": "code",
      "source": [
        "import glob\n",
        "\n",
        "detetced_image_list = glob.glob(('/content/Rock-Paper-Scissors-SXSW-11/runs/detect/predict'))\n",
        "\n",
        "detected_image_nums = len(detetced_image_list)\n",
        "\n",
        "print(detected_image_nums)\n",
        "\n",
        "print(detetced_image_list)"
      ],
      "metadata": {
        "id": "lbyUCF4MCNpY"
      },
      "execution_count": null,
      "outputs": []
    },
    {
      "cell_type": "code",
      "source": [
        "# 다운로드를 위한 inference image 압축\n",
        "\n",
        "import zipfile\n",
        "import os\n",
        "\n",
        "if not os.path.exists('/content/detected_result/'):\n",
        "    os.mkdir('/content/detected_result/')\n",
        "    print('detected_result dir is created !!!')\n",
        "\n",
        "\n",
        "with zipfile.ZipFile('/content/detected_result/detected_images.zip', 'w') as detected_images:\n",
        "\n",
        "    for idx in range(detected_image_nums):\n",
        "        detected_images.write(detetced_image_list[idx])"
      ],
      "metadata": {
        "id": "foW_haXECP3D"
      },
      "execution_count": null,
      "outputs": []
    }
  ]
}