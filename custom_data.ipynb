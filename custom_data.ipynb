{
  "nbformat": 4,
  "nbformat_minor": 0,
  "metadata": {
    "colab": {
      "private_outputs": true,
      "provenance": [],
      "mount_file_id": "1ewxeWlDqVaUX6oCdtUujEEE1-LdTtYA_",
      "authorship_tag": "ABX9TyMgm2e9IC98hyCSZRX6oJl+",
      "include_colab_link": true
    },
    "kernelspec": {
      "name": "python3",
      "display_name": "Python 3"
    },
    "language_info": {
      "name": "python"
    }
  },
  "cells": [
    {
      "cell_type": "markdown",
      "metadata": {
        "id": "view-in-github",
        "colab_type": "text"
      },
      "source": [
        "<a href=\"https://colab.research.google.com/github/limseo12/YOLOv8_Object_Detection/blob/main/custom_data.ipynb\" target=\"_parent\"><img src=\"https://colab.research.google.com/assets/colab-badge.svg\" alt=\"Open In Colab\"/></a>"
      ]
    },
    {
      "cell_type": "code",
      "source": [
        "!pip install roboflow\n",
        "\n",
        "from roboflow import Roboflow\n",
        "rf = Roboflow(api_key=\"Vo3weMCC3nS9jZ3v6tEV\")\n",
        "project = rf.workspace(\"capstone-nh0nc\").project(\"car-damage-detection-t0g92\")\n",
        "dataset = project.version(3).download(\"yolov8\")\n"
      ],
      "metadata": {
        "id": "XEPZ6CfizRrh"
      },
      "execution_count": null,
      "outputs": []
    },
    {
      "cell_type": "code",
      "source": [
        "!cat /content/Car-Damage-Detection-3/data.yaml"
      ],
      "metadata": {
        "id": "vf3wxmIU2CIS"
      },
      "execution_count": null,
      "outputs": []
    },
    {
      "cell_type": "code",
      "source": [
        "!pip install PyYAML"
      ],
      "metadata": {
        "id": "0dwRnwJ62JIc"
      },
      "execution_count": null,
      "outputs": []
    },
    {
      "cell_type": "code",
      "source": [
        "#경로설정\n",
        "import yaml\n",
        "\n",
        "data = {'path' : '/content/Car-Damage-Detection-3/',\n",
        "        'train' : '/content/Car-Damage-Detection-3/train/images',\n",
        "        'test': '/content/Car-Damage-Detection-3/test/images',\n",
        "        'valid': '/content/Car-Damage-Detection-3/valid/images',\n",
        "        'names' : ['Bonnet', 'Bumper', 'Dickey', 'Door', 'Fender', 'Light', 'Windshield'],\n",
        "        'nc' : 7 }\n",
        "\n",
        "with open('/content/Car-Damage-Detection-3/car_data.yaml', 'w') as f:\n",
        "  yaml.dump(data, f)\n",
        "\n",
        "with open('/content/Car-Damage-Detection-3/car_data.yaml', 'r') as f:\n",
        "  car_yaml = yaml.safe_load(f)\n",
        "  display(car_yaml)"
      ],
      "metadata": {
        "id": "uaI6pJEQ2hY1"
      },
      "execution_count": null,
      "outputs": []
    },
    {
      "cell_type": "code",
      "source": [
        "!cat /content/Car-Damage-Detection-3/car_data.yaml"
      ],
      "metadata": {
        "id": "bSCSYaxnBOrs"
      },
      "execution_count": null,
      "outputs": []
    },
    {
      "cell_type": "markdown",
      "source": [
        "## YOLOv8 설치"
      ],
      "metadata": {
        "id": "_SEM0XLU4fkJ"
      }
    },
    {
      "cell_type": "code",
      "source": [
        "!pip install ultralytics"
      ],
      "metadata": {
        "id": "Lx4oyOUA4b0Q"
      },
      "execution_count": null,
      "outputs": []
    },
    {
      "cell_type": "code",
      "source": [
        "import ultralytics\n",
        "\n",
        "ultralytics.checks()"
      ],
      "metadata": {
        "id": "O3PyY1A64lqf"
      },
      "execution_count": null,
      "outputs": []
    },
    {
      "cell_type": "markdown",
      "source": [
        "## Train"
      ],
      "metadata": {
        "id": "5OpddJQZBpWt"
      }
    },
    {
      "cell_type": "code",
      "source": [
        "#Load a pre-trained model\n",
        "from ultralytics import YOLO\n",
        "model_x = YOLO('yolov8x.pt')"
      ],
      "metadata": {
        "id": "21KVBnYJ4m4-"
      },
      "execution_count": null,
      "outputs": []
    },
    {
      "cell_type": "code",
      "source": [
        "print(type(model_x.names), len(model_x.names))\n",
        "print(model_x.names)"
      ],
      "metadata": {
        "id": "j2dj6p3r40PN"
      },
      "execution_count": null,
      "outputs": []
    },
    {
      "cell_type": "code",
      "source": [
        "model_x.train(data= '/content/Car-Damage-Detection-3/car_data.yaml', epochs=100, patience=30, batch=32, imgsz=316)"
      ],
      "metadata": {
        "id": "EKR0prhi49v1"
      },
      "execution_count": null,
      "outputs": []
    },
    {
      "cell_type": "code",
      "source": [
        "results = model.predict(source='/content/Aquarium_Data/test/images/', save = True)"
      ],
      "metadata": {
        "id": "m9gWQhFT5OrV"
      },
      "execution_count": null,
      "outputs": []
    },
    {
      "cell_type": "code",
      "source": [
        "print(type(results), len(results))"
      ],
      "metadata": {
        "id": "fBZpAAeaCIAu"
      },
      "execution_count": null,
      "outputs": []
    },
    {
      "cell_type": "code",
      "source": [
        "import numpy as np\n",
        "\n",
        "for result in results:\n",
        "\n",
        "    uniq, cnt = np.unique(result.boxes.cls.cpu().numpy(), return_counts=True)  # Torch.Tensor -> numpy\n",
        "    uniq_cnt_dict = dict(zip(uniq, cnt))\n",
        "\n",
        "    print('\\n{class num:counts} =', uniq_cnt_dict,'\\n')\n",
        "\n",
        "    for c in result.boxes.cls:\n",
        "        print('class num =', int(c), ', class_name =', model.names[int(c)])"
      ],
      "metadata": {
        "id": "fKH_QYMYCJFL"
      },
      "execution_count": null,
      "outputs": []
    },
    {
      "cell_type": "markdown",
      "source": [
        "## 결과 확인 및 다운"
      ],
      "metadata": {
        "id": "cnFnDZ1PCL2l"
      }
    },
    {
      "cell_type": "code",
      "source": [
        "import glob\n",
        "\n",
        "detetced_image_list = glob.glob(('/content/runs/detect/predict/*'))\n",
        "\n",
        "detected_image_nums = len(detetced_image_list)\n",
        "\n",
        "print(detected_image_nums)\n",
        "\n",
        "print(detetced_image_list)"
      ],
      "metadata": {
        "id": "lbyUCF4MCNpY"
      },
      "execution_count": null,
      "outputs": []
    },
    {
      "cell_type": "code",
      "source": [
        "# 다운로드를 위한 inference image 압축\n",
        "\n",
        "import zipfile\n",
        "import os\n",
        "\n",
        "if not os.path.exists('/content/detected_result/'):\n",
        "    os.mkdir('/content/detected_result/')\n",
        "    print('detected_result dir is created !!!')\n",
        "\n",
        "\n",
        "with zipfile.ZipFile('/content/detected_result/detected_images.zip', 'w') as detected_images:\n",
        "\n",
        "    for idx in range(detected_image_nums):\n",
        "        detected_images.write(detetced_image_list[idx])"
      ],
      "metadata": {
        "id": "foW_haXECP3D"
      },
      "execution_count": null,
      "outputs": []
    }
  ]
}